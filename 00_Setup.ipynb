{
 "cells": [
  {
   "cell_type": "markdown",
   "metadata": {
    "deletable": true,
    "editable": true
   },
   "source": [
    "# How to Log In to the Mies Machine"
   ]
  },
  {
   "cell_type": "markdown",
   "metadata": {
    "deletable": true,
    "editable": true
   },
   "source": [
    "Run the command:\n",
    "    \n",
    "```ssh -XY [your Carnegie ID]@mies.stanford.edu```\n",
    "\n",
    "Enter your password when prompted."
   ]
  },
  {
   "cell_type": "markdown",
   "metadata": {
    "deletable": true,
    "editable": true
   },
   "source": [
    "## Clone the GitHub Directory for our Research Project \n",
    "### (This one you're looking at!)"
   ]
  },
  {
   "cell_type": "markdown",
   "metadata": {
    "deletable": true,
    "editable": true
   },
   "source": [
    "1. In a web browser go to https://github.com/nnicolesanchez/2023_CASSI_summerproject.git\n",
    "\n",
    "2. Click the green button that says \"Clone or Download\"\n",
    "\n",
    "3. Copy the web address to your computer's clipboard: https://github.com/nnicolesanchez/2023_CASSI_summerproject.git\n",
    "\n",
    "4. Back in your terminal type:\n",
    "```bash\n",
    "git clone https://github.com/nnicolesanchez/2023_CASSI_summerproject.git\n",
    "```\n",
    "\n",
    "\n",
    "5. This will download the github of research files that we've created"
   ]
  },
  {
   "cell_type": "markdown",
   "metadata": {
    "deletable": true,
    "editable": true
   },
   "source": [
    "## How to Open Jupyter Notebook"
   ]
  },
  {
   "cell_type": "markdown",
   "metadata": {
    "deletable": true,
    "editable": true
   },
   "source": [
    "Confirm that things are working:\n",
    "- To make sure this has worked, let's try two things. First let's just open python to make sure you're running the correction version. In your terminal, type:\n",
    "\n",
    "``` python ```\n",
    "\n",
    "- You should see that you are running version 3.9. To get out of python just type:\n",
    "\n",
    "``` exit() ```\n",
    "\n",
    "- Next, let's just test that you are able to open a Jupyter notebook. Type the following command in your terminal:\n",
    "\n",
    "``` jupyter notebook ```\n",
    "\n",
    "You should see some output that says a Jupyter notebook server is running. If so, it worked! When you are done for the day, you can exit out of this by typing \"control-C\" and then \"y\" when it asks you if you really want to shut down the server."
   ]
  },
  {
   "cell_type": "markdown",
   "metadata": {
    "deletable": true,
    "editable": true
   },
   "source": [
    "### We need to open the webpage locally - We will do this together"
   ]
  },
  {
   "cell_type": "markdown",
   "metadata": {
    "deletable": true,
    "editable": true
   },
   "source": [
    "For now, open a new web page on your favorite browser and go to ```https://mies.stanford.edu:8888/```\n",
    "\n",
    "- When the error page comes up, click **Advanced**\n",
    "\n",
    "\n",
    " - Then select <ins>Proceed to ##</ins>  at the bottom left\n",
    " \n",
    "\n",
    "- Here is when it will ask you for that strong password you created before\n",
    "\n",
    "\n",
    "Now your Jupyter Notebook should be open!"
   ]
  },
  {
   "cell_type": "markdown",
   "metadata": {
    "deletable": true,
    "editable": true
   },
   "source": [
    "## When you need to update the GitHub here are the instructions \n",
    "\n",
    "Nicole will let you know when you need to do this."
   ]
  },
  {
   "cell_type": "markdown",
   "metadata": {
    "deletable": true,
    "editable": true
   },
   "source": [
    "Each time you log on to your Mies account (either at Carnegie or remotely) make sure your files are up to date\n",
    "Get into the github directory:\n",
    "\n",
    "``` cd 2023_CASSI_summerproject.git ```\n",
    "\n",
    "Update the directory to get any newly added files\n",
    "\n",
    "``` git pull```"
   ]
  },
  {
   "cell_type": "markdown",
   "metadata": {
    "deletable": true,
    "editable": true
   },
   "source": [
    "## Other python packages you'll need"
   ]
  },
  {
   "cell_type": "markdown",
   "metadata": {
    "deletable": true,
    "editable": true
   },
   "source": [
    "pynbody: https://github.com/pynbody/pynbody"
   ]
  },
  {
   "cell_type": "markdown",
   "metadata": {
    "deletable": true,
    "editable": true
   },
   "source": [
    "tangos: https://github.com/pynbody/tangos"
   ]
  }
 ],
 "metadata": {
  "kernelspec": {
   "display_name": "Python 3",
   "language": "python",
   "name": "python3"
  },
  "language_info": {
   "codemirror_mode": {
    "name": "ipython",
    "version": 3
   },
   "file_extension": ".py",
   "mimetype": "text/x-python",
   "name": "python",
   "nbconvert_exporter": "python",
   "pygments_lexer": "ipython3",
   "version": "3.9.5"
  }
 },
 "nbformat": 4,
 "nbformat_minor": 4
}
