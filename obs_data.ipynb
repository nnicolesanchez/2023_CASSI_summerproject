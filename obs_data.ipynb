{
 "cells": [
  {
   "cell_type": "markdown",
   "id": "bbf2c468-4c89-44a6-9c70-53ef6f46e9d3",
   "metadata": {},
   "source": [
    "# Observed Galaxy Measurements"
   ]
  },
  {
   "cell_type": "markdown",
   "id": "f6175545-a27a-4e07-b2fb-e23e29c6180a",
   "metadata": {
    "tags": []
   },
   "source": [
    "### From Esteban+2020: https://ui.adsabs.harvard.edu/abs/2020MNRAS.491.2137E/abstract\n",
    "- M101\n",
    "- M31\n",
    "\n",
    "### See table 6 for citations\n",
    "- Milky Way\n",
    "- NGC300\n",
    "- M33"
   ]
  },
  {
   "cell_type": "markdown",
   "id": "37aa8e11-0b2f-41a3-b2a4-7f2c5bb988a2",
   "metadata": {},
   "source": [
    "### Information needed:\n",
    "    - Halo Mass\n",
    "    - Galaxy Stellar Mass\n",
    "    - SMBH Mass\n",
    "    - Stellar dispersion\n",
    "    - Metallicity gradients"
   ]
  },
  {
   "cell_type": "code",
   "execution_count": null,
   "id": "8ba3e923-09f2-4f9b-ac5f-e1c0454e2fca",
   "metadata": {},
   "outputs": [],
   "source": []
  }
 ],
 "metadata": {
  "kernelspec": {
   "display_name": "Python 3",
   "language": "python",
   "name": "python3"
  },
  "language_info": {
   "codemirror_mode": {
    "name": "ipython",
    "version": 3
   },
   "file_extension": ".py",
   "mimetype": "text/x-python",
   "name": "python",
   "nbconvert_exporter": "python",
   "pygments_lexer": "ipython3",
   "version": "3.9.5"
  }
 },
 "nbformat": 4,
 "nbformat_minor": 5
}
